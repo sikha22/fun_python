{
  "nbformat": 4,
  "nbformat_minor": 0,
  "metadata": {
    "colab": {
      "name": "funpython.ipynb",
      "provenance": [],
      "authorship_tag": "ABX9TyOtxjA2kMKzfno20K0WjUV0",
      "include_colab_link": true
    },
    "kernelspec": {
      "name": "python3",
      "display_name": "Python 3"
    },
    "language_info": {
      "name": "python"
    }
  },
  "cells": [
    {
      "cell_type": "markdown",
      "metadata": {
        "id": "view-in-github",
        "colab_type": "text"
      },
      "source": [
        "<a href=\"https://colab.research.google.com/github/sikha22/fun_python/blob/main/funpython.ipynb\" target=\"_parent\"><img src=\"https://colab.research.google.com/assets/colab-badge.svg\" alt=\"Open In Colab\"/></a>"
      ]
    },
    {
      "cell_type": "code",
      "metadata": {
        "colab": {
          "base_uri": "https://localhost:8080/"
        },
        "id": "lzHKCIZB7qkH",
        "outputId": "cf49a2e8-f450-4635-b7c4-74c190e6ce16"
      },
      "source": [
        "def is_anagram(s,s1):\n",
        "  if len(s)!=len(s1):\n",
        "    return False\n",
        "  else:\n",
        "    for i,j in zip(s,s1):\n",
        "      if i!=j:\n",
        "        return False\n",
        "      return True\n",
        "\n",
        "s=input(\"Enter word:\")\n",
        "s1=input(\"Enter words:\")\n",
        "s=sorted(s.lower())\n",
        "s1=sorted(s1.lower())\n",
        "res=is_anagram(s,s1)\n",
        "if res==True:\n",
        "  print(\"It's an Anagram\")\n",
        "else:\n",
        "  print(\"It's not an Anagram\")"
      ],
      "execution_count": null,
      "outputs": [
        {
          "output_type": "stream",
          "name": "stdout",
          "text": [
            "Enter word:fried\n",
            "Enter words:fired\n",
            "It's an Anagram\n"
          ]
        }
      ]
    },
    {
      "cell_type": "code",
      "metadata": {
        "colab": {
          "base_uri": "https://localhost:8080/"
        },
        "id": "bN_RswirHf0p",
        "outputId": "8e583a1e-34c3-42ad-90a8-fb66cbfd6d7c"
      },
      "source": [
        "import socket\n",
        "hostname=socket.gethostname()\n",
        "IPAddr=socket.gethostbyname(hostname)\n",
        "print(\"Your Computer Name is:\"+hostname)\n",
        "print(\"Your Computer IP Address is:\" +IPAddr)"
      ],
      "execution_count": 2,
      "outputs": [
        {
          "output_type": "stream",
          "name": "stdout",
          "text": [
            "Your Computer Name is:611a2493a926\n",
            "Your Computer IP Address is:172.28.0.2\n"
          ]
        }
      ]
    },
    {
      "cell_type": "code",
      "metadata": {
        "id": "F-l4VrGEATjw"
      },
      "source": [
        ""
      ],
      "execution_count": null,
      "outputs": []
    }
  ]
}